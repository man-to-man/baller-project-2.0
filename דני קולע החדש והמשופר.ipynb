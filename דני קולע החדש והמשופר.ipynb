{
 "metadata": {
  "language_info": {
   "codemirror_mode": {
    "name": "ipython",
    "version": 3
   },
   "file_extension": ".py",
   "mimetype": "text/x-python",
   "name": "python",
   "nbconvert_exporter": "python",
   "pygments_lexer": "ipython3",
   "version": "3.8.8"
  },
  "orig_nbformat": 4,
  "kernelspec": {
   "name": "python3",
   "display_name": "Python 3.8.8 64-bit ('base': conda)"
  },
  "interpreter": {
   "hash": "42588fd11209419b7c81abe23e31a1d2101f60811b02170c268e57ebb57d5d9a"
  }
 },
 "nbformat": 4,
 "nbformat_minor": 2,
 "cells": [
  {
   "cell_type": "code",
   "execution_count": 45,
   "metadata": {
    "tags": []
   },
   "outputs": [
    {
     "output_type": "execute_result",
     "data": {
      "text/plain": [
       "<function TextIOWrapper.close()>"
      ]
     },
     "metadata": {},
     "execution_count": 45
    }
   ],
   "source": [
    "import csv\n",
    "\n",
    "csv_file = open('.idea\\csv.txt')\n",
    "csv_reader = csv.reader(csv_file)\n",
    "ages = []\n",
    "for row in csv_reader:\n",
    "    ages.append(row[3])\n",
    "    \n",
    "csv_file.close"
   ]
  },
  {
   "cell_type": "code",
   "execution_count": 47,
   "metadata": {},
   "outputs": [
    {
     "output_type": "stream",
     "name": "stdout",
     "text": [
      "['21', '22', '20', '20', '21', '19', '22', '21', '22', '25', '26', '22', '25', '29', '24', '19', '22', '25', '24', '21', '19', '20', '23', '22', '22', '24', '28', '23', '20', '21', '20', '20', '19', '22', '19', '21', '21', '22', '21', '22', '21', '23', '23', '21', '19', '21', '22', '19', '20', '19', '23', '20', '25', '20', '23', '20', '24', '24', '21', '20', '22', '22', '20', '20', '24', '21', '20', '19', '21', '23', '21', '19', '21', '23', '23', '20', '20', '20', '21', '23', '19', '25', '20', '24', '22', '22', '22', '20', '27', '19', '24', '22', '19', '21']\n"
     ]
    }
   ],
   "source": [
    "ages.remove('Age')\n",
    "print(ages)"
   ]
  },
  {
   "cell_type": "code",
   "execution_count": 52,
   "metadata": {},
   "outputs": [
    {
     "output_type": "stream",
     "name": "stdout",
     "text": [
      "21\n"
     ]
    }
   ],
   "source": [
    "int_list = tuple(map(int, ages))  #avg.Age\n",
    "ages_avg= (sum(int_list)//94)\n",
    "print(ages_avg)"
   ]
  },
  {
   "cell_type": "code",
   "execution_count": null,
   "metadata": {},
   "outputs": [],
   "source": []
  }
 ]
}