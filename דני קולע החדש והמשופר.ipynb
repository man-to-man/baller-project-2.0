{
 "metadata": {
  "language_info": {
   "codemirror_mode": {
    "name": "ipython",
    "version": 3
   },
   "file_extension": ".py",
   "mimetype": "text/x-python",
   "name": "python",
   "nbconvert_exporter": "python",
   "pygments_lexer": "ipython3",
   "version": "3.8.8"
  },
  "orig_nbformat": 4,
  "kernelspec": {
   "name": "python3",
   "display_name": "Python 3.8.8 64-bit ('base': conda)"
  },
  "interpreter": {
   "hash": "42588fd11209419b7c81abe23e31a1d2101f60811b02170c268e57ebb57d5d9a"
  }
 },
 "nbformat": 4,
 "nbformat_minor": 2,
 "cells": [
  {
   "cell_type": "code",
   "execution_count": 71,
   "metadata": {},
   "outputs": [],
   "source": [
    "    import csv  \n",
    "\n",
    "    csv_file = open('.idea\\csv.txt')\n",
    "    csv_reader = csv.reader(csv_file)\n",
    "    ages = []\n",
    "\n",
    "    for row in csv_reader:\n",
    "        ages.append(row[3])\n",
    "    csv_file.close() "
   ]
  },
  {
   "cell_type": "code",
   "execution_count": 72,
   "metadata": {},
   "outputs": [
    {
     "output_type": "stream",
     "name": "stdout",
     "text": [
      "['Age', '21', '22', '20', '20', '21', '19', '22', '21', '22', '25', '26', '22', '25', '29', '24', '19', '22', '25', '24', '21', '19', '20', '23', '22', '22', '24', '28', '23', '20', '21', '20', '20', '19', '22', '19', '21', '21', '22', '21', '22', '21', '23', '23', '21', '19', '21', '22', '19', '20', '19', '23', '20', '25', '20', '23', '20', '24', '24', '21', '20', '22', '22', '20', '20', '24', '21', '20', '19', '21', '23', '21', '19', '21', '23', '23', '20', '20', '20', '21', '23', '19', '25', '20', '24', '22', '22', '22', '20', '27', '19', '24', '22', '19', '21']\n"
     ]
    }
   ],
   "source": [
    "print(ages)"
   ]
  },
  {
   "cell_type": "code",
   "execution_count": 73,
   "metadata": {},
   "outputs": [
    {
     "output_type": "stream",
     "name": "stdout",
     "text": [
      "['21', '22', '20', '20', '21', '19', '22', '21', '22', '25', '26', '22', '25', '29', '24', '19', '22', '25', '24', '21', '19', '20', '23', '22', '22', '24', '28', '23', '20', '21', '20', '20', '19', '22', '19', '21', '21', '22', '21', '22', '21', '23', '23', '21', '19', '21', '22', '19', '20', '19', '23', '20', '25', '20', '23', '20', '24', '24', '21', '20', '22', '22', '20', '20', '24', '21', '20', '19', '21', '23', '21', '19', '21', '23', '23', '20', '20', '20', '21', '23', '19', '25', '20', '24', '22', '22', '22', '20', '27', '19', '24', '22', '19', '21']\n"
     ]
    }
   ],
   "source": [
    "del ages[0]\n",
    "print(ages)"
   ]
  },
  {
   "cell_type": "code",
   "execution_count": 74,
   "metadata": {},
   "outputs": [],
   "source": [
    "def AVG_maker(a_list):\n",
    "    int_convert = list(map(int, a_list))\n",
    "    avg_calc = (sum(int_convert)//94)\n",
    "    print(avg_calc)"
   ]
  },
  {
   "cell_type": "code",
   "execution_count": 75,
   "metadata": {},
   "outputs": [
    {
     "output_type": "stream",
     "name": "stdout",
     "text": [
      "21\n"
     ]
    }
   ],
   "source": [
    "AVG_maker(ages)"
   ]
  },
  {
   "cell_type": "code",
   "execution_count": 76,
   "metadata": {},
   "outputs": [],
   "source": [
    "def list_maker(list_name, row_index):\n",
    "    import csv\n",
    "\n",
    "    csv_file = open('.idea\\csv.txt')\n",
    "    csv_reader = csv.reader(csv_file)\n",
    "    \n",
    "    \n",
    "    for row in csv_reader:\n",
    "        list_name.append(row[row_index])\n",
    "    csv_file.close()"
   ]
  },
  {
   "cell_type": "code",
   "execution_count": 77,
   "metadata": {},
   "outputs": [],
   "source": [
    "G = []\n",
    "list_maker(G, 5)"
   ]
  },
  {
   "cell_type": "code",
   "execution_count": 78,
   "metadata": {},
   "outputs": [
    {
     "output_type": "stream",
     "name": "stdout",
     "text": [
      "['61', '15', '47', '54', '15', '51', '68', '70', '18', '17', '5', '20', '1', '65', '8', '19', '7', '10', '14', '11', '72', '30', '3', '47', '30', '7', '26', '20', '39', '2', '58', '21', '51', '13', '26', '21', '37', '18', '41', '32', '37', '33', '24', '48', '54', '3', '1', '65', '10', '30', '32', '45', '8', '61', '33', '63', '18', '30', '46', '42', '30', '45', '50', '67', '4', '30', '26', '45', '11', '66', '64', '13', '26', '18', '7', '4', '20', '27', '24', '40', '68', '70', '11', '32', '18', '59', '62', '62', '4', '71', '31', '22', '39', '13']\n"
     ]
    }
   ],
   "source": [
    "G.remove('G')\n",
    "print(G)"
   ]
  },
  {
   "cell_type": "code",
   "execution_count": 79,
   "metadata": {},
   "outputs": [
    {
     "output_type": "stream",
     "name": "stdout",
     "text": [
      "32\n"
     ]
    }
   ],
   "source": [
    "AVG_maker(G)"
   ]
  },
  {
   "cell_type": "code",
   "execution_count": 80,
   "metadata": {},
   "outputs": [],
   "source": [
    "MP = []\n",
    "list_maker(MP, 6)"
   ]
  },
  {
   "cell_type": "code",
   "execution_count": 81,
   "metadata": {},
   "outputs": [
    {
     "output_type": "stream",
     "name": "stdout",
     "text": [
      "['737', '47', '1273', '1257', '57', '1469', '1519', '1909', '71', '75', '29', '520', '32', '1425', '74', '115', '26', '212', '141', '50', '2314', '192', '11', '928', '302', '101', '218', '392', '445', '4', '1746', '336', '888', '172', '670', '93', '205', '64', '383', '334', '269', '279', '415', '781', '904', '56', '3', '1778', '88', '364', '700', '1068', '123', '935', '269', '1511', '158', '233', '669', '397', '274', '1133', '601', '2173', '87', '161', '211', '1090', '54', '1268', '1243', '94', '177', '63', '27', '84', '133', '156', '93', '499', '1455', '2043', '56', '399', '182', '1085', '683', '1056', '12', '1983', '513', '98', '836', '45']\n"
     ]
    }
   ],
   "source": [
    " MP.remove('MP')\n",
    "print(MP)\n"
   ]
  },
  {
   "cell_type": "code",
   "execution_count": 82,
   "metadata": {},
   "outputs": [
    {
     "output_type": "stream",
     "name": "stdout",
     "text": [
      "552\n"
     ]
    }
   ],
   "source": [
    "AVG_maker(MP)"
   ]
  },
  {
   "cell_type": "code",
   "execution_count": 83,
   "metadata": {},
   "outputs": [
    {
     "output_type": "stream",
     "name": "stdout",
     "text": [
      "['124', '3', '219', '130', '4', '293', '234', '279', '7', '5', '5', '78', '6', '120', '11', '18', '2', '32', '16', '11', '505', '25', '1', '127', '32', '13', '30', '44', '42', '0', '292', '30', '136', '36', '71', '15', '40', '10', '48', '52', '37', '37', '46', '99', '130', '3', '0', '226', '3', '39', '82', '162', '19', '198', '44', '164', '13', '32', '78', '50', '62', '135', '96', '235', '19', '22', '32', '139', '8', '184', '229', '15', '42', '4', '8', '14', '14', '22', '13', '62', '226', '316', '5', '39', '19', '167', '104', '123', '0', '255', '57', '14', '191', '8']\n"
     ]
    }
   ],
   "source": [
    "FG = []\n",
    "list_maker(FG, 7)\n",
    "FG.remove('FG')\n",
    "print(FG)"
   ]
  },
  {
   "cell_type": "code",
   "execution_count": 84,
   "metadata": {},
   "outputs": [
    {
     "output_type": "stream",
     "name": "stdout",
     "text": [
      "79\n"
     ]
    }
   ],
   "source": [
    "AVG_maker(FG)"
   ]
  },
  {
   "cell_type": "code",
   "execution_count": 85,
   "metadata": {},
   "outputs": [
    {
     "output_type": "stream",
     "name": "stdout",
     "text": [
      "['228', '12', '552', '312', '9', '672', '499', '691', '22', '20', '8', '192', '13', '315', '28', '36', '7', '67', '40', '21', '1211', '66', '3', '340', '71', '28', '60', '84', '93', '0', '619', '99', '313', '72', '201', '42', '106', '30', '133', '123', '78', '100', '118', '210', '337', '13', '1', '614', '13', '114', '209', '318', '48', '429', '98', '367', '33', '72', '178', '104', '135', '324', '149', '559', '33', '52', '78', '408', '15', '418', '580', '38', '78', '9', '12', '36', '40', '50', '43', '136', '409', '625', '16', '108', '57', '299', '209', '303', '3', '528', '130', '33', '368', '20']\n"
     ]
    }
   ],
   "source": [
    "FGA = []\n",
    "list_maker(FGA, 8)\n",
    "FGA.remove('FGA')\n",
    "print(FGA)"
   ]
  },
  {
   "cell_type": "code",
   "execution_count": 86,
   "metadata": {},
   "outputs": [
    {
     "output_type": "stream",
     "name": "stdout",
     "text": [
      "182\n"
     ]
    }
   ],
   "source": [
    "AVG_maker(FGA)"
   ]
  },
  {
   "cell_type": "code",
   "execution_count": 87,
   "metadata": {
    "tags": []
   },
   "outputs": [
    {
     "output_type": "stream",
     "name": "stdout",
     "text": [
      "['0', '2', '58', '53', '0', '92', '117', '175', '1', '2', '0', '60', '1', '76', '6', '1', '2', '2', '1', '1', '171', '7', '1', '54', '5', '5', '7', '0', '4', '0', '121', '4', '27', '17', '20', '4', '18', '8', '39', '24', '3', '6', '23', '8', '40', '2', '0', '105', '1', '22', '29', '35', '8', '31', '14', '72', '5', '21', '40', '24', '28', '49', '0', '62', '4', '1', '4', '58', '3', '102', '118', '5', '0', '0', '2', '2', '10', '4', '3', '4', '21', '60', '0', '16', '10', '22', '26', '52', '0', '54', '26', '8', '12', '1']\n"
     ]
    }
   ],
   "source": [
    "three_point = []\n",
    "list_maker(three_point, 9)\n",
    "three_point.remove('3P')\n",
    "print(three_point)"
   ]
  },
  {
   "cell_type": "code",
   "execution_count": 88,
   "metadata": {},
   "outputs": [
    {
     "output_type": "stream",
     "name": "stdout",
     "text": [
      "25\n"
     ]
    }
   ],
   "source": [
    "AVG_maker(three_point)"
   ]
  },
  {
   "cell_type": "code",
   "execution_count": 89,
   "metadata": {},
   "outputs": [
    {
     "output_type": "stream",
     "name": "stdout",
     "text": [
      "['1', '9', '172', '168', '0', '261', '271', '460', '4', '8', '0', '157', '5', '216', '16', '7', '7', '15', '8', '7', '520', '34', '2', '168', '26', '15', '24', '0', '25', '0', '296', '37', '87', '36', '72', '19', '65', '23', '106', '66', '5', '33', '71', '23', '120', '8', '1', '313', '2', '60', '83', '96', '26', '103', '40', '198', '22', '47', '108', '59', '62', '141', '3', '214', '13', '5', '21', '207', '8', '248', '303', '19', '6', '1', '4', '9', '28', '17', '13', '25', '63', '195', '7', '59', '33', '65', '85', '150', '2', '138', '77', '17', '38', '6']\n"
     ]
    }
   ],
   "source": [
    "three_point_A = []\n",
    "list_maker(three_point_A, 10)\n",
    "three_point_A.remove('3PA')\n",
    "print(three_point_A)\n"
   ]
  },
  {
   "cell_type": "code",
   "execution_count": 90,
   "metadata": {},
   "outputs": [
    {
     "output_type": "stream",
     "name": "stdout",
     "text": [
      "75\n"
     ]
    }
   ],
   "source": [
    "AVG_maker(three_point_A)"
   ]
  },
  {
   "cell_type": "code",
   "execution_count": 91,
   "metadata": {},
   "outputs": [
    {
     "output_type": "stream",
     "name": "stdout",
     "text": [
      "29\n"
     ]
    }
   ],
   "source": [
    "FT = []\n",
    "list_maker(FT, 11)\n",
    "FT.remove('FT')\n",
    "AVG_maker(FT)"
   ]
  },
  {
   "cell_type": "code",
   "execution_count": 92,
   "metadata": {},
   "outputs": [
    {
     "output_type": "stream",
     "name": "stdout",
     "text": [
      "39\n"
     ]
    }
   ],
   "source": [
    "FTA = []\n",
    "list_maker(FTA, 12)\n",
    "FTA.remove('FTA')\n",
    "AVG_maker(FTA)"
   ]
  },
  {
   "cell_type": "code",
   "execution_count": 93,
   "metadata": {},
   "outputs": [
    {
     "output_type": "stream",
     "name": "stdout",
     "text": [
      "20\n"
     ]
    }
   ],
   "source": [
    "ORB = []\n",
    "list_maker(ORB, 13)\n",
    "ORB.remove('ORB')\n",
    "AVG_maker(ORB)"
   ]
  },
  {
   "cell_type": "code",
   "execution_count": 94,
   "metadata": {},
   "outputs": [
    {
     "output_type": "stream",
     "name": "stdout",
     "text": [
      "91\n"
     ]
    }
   ],
   "source": [
    "TRB = []\n",
    "list_maker(TRB, 14)\n",
    "TRB.remove('TRB')\n",
    "AVG_maker(TRB)"
   ]
  },
  {
   "cell_type": "code",
   "execution_count": 95,
   "metadata": {},
   "outputs": [
    {
     "output_type": "stream",
     "name": "stdout",
     "text": [
      "49\n"
     ]
    }
   ],
   "source": [
    "AST = []\n",
    "list_maker(AST, 15)\n",
    "AST.remove('AST')\n",
    "AVG_maker(AST)"
   ]
  },
  {
   "cell_type": "code",
   "execution_count": 96,
   "metadata": {},
   "outputs": [
    {
     "output_type": "stream",
     "name": "stdout",
     "text": [
      "18\n"
     ]
    }
   ],
   "source": [
    "STL = []\n",
    "list_maker(STL, 16)\n",
    "STL.remove('STL')\n",
    "AVG_maker(STL)"
   ]
  },
  {
   "cell_type": "code",
   "execution_count": 101,
   "metadata": {},
   "outputs": [
    {
     "output_type": "stream",
     "name": "stdout",
     "text": [
      "10\n"
     ]
    }
   ],
   "source": [
    "BLK =[]\n",
    "list_maker(BLK, 17)\n",
    "BLK.remove('BLK')\n",
    "AVG_maker(BLK)"
   ]
  },
  {
   "cell_type": "code",
   "execution_count": 104,
   "metadata": {},
   "outputs": [
    {
     "output_type": "stream",
     "name": "stdout",
     "text": [
      "28\n"
     ]
    }
   ],
   "source": [
    "TOV = []\n",
    "list_maker(TOV, 18)\n",
    "TOV.remove('TOV')\n",
    "AVG_maker(TOV)"
   ]
  },
  {
   "cell_type": "code",
   "execution_count": 107,
   "metadata": {},
   "outputs": [
    {
     "output_type": "stream",
     "name": "stdout",
     "text": [
      "47\n"
     ]
    }
   ],
   "source": [
    "PF = []\n",
    "list_maker(PF, 19)\n",
    "PF.remove('PF')\n",
    "AVG_maker(PF)"
   ]
  },
  {
   "cell_type": "code",
   "execution_count": 108,
   "metadata": {},
   "outputs": [
    {
     "output_type": "stream",
     "name": "stdout",
     "text": [
      "214\n"
     ]
    }
   ],
   "source": [
    "PTS = []\n",
    "list_maker(PTS, 20)\n",
    "PTS.remove('PTS')\n",
    "AVG_maker(PTS)"
   ]
  },
  {
   "cell_type": "code",
   "execution_count": 111,
   "metadata": {},
   "outputs": [
    {
     "output_type": "error",
     "ename": "ValueError",
     "evalue": "invalid literal for int() with base 10: '.544'",
     "traceback": [
      "\u001b[1;31m---------------------------------------------------------------------------\u001b[0m",
      "\u001b[1;31mValueError\u001b[0m                                Traceback (most recent call last)",
      "\u001b[1;32m<ipython-input-111-1c82be99668d>\u001b[0m in \u001b[0;36m<module>\u001b[1;34m\u001b[0m\n\u001b[0;32m      2\u001b[0m \u001b[0mlist_maker\u001b[0m\u001b[1;33m(\u001b[0m\u001b[0mFG_pracent\u001b[0m\u001b[1;33m,\u001b[0m \u001b[1;36m21\u001b[0m\u001b[1;33m)\u001b[0m\u001b[1;33m\u001b[0m\u001b[1;33m\u001b[0m\u001b[0m\n\u001b[0;32m      3\u001b[0m \u001b[0mFG_pracent\u001b[0m\u001b[1;33m.\u001b[0m\u001b[0mremove\u001b[0m\u001b[1;33m(\u001b[0m\u001b[1;34m'FG%'\u001b[0m\u001b[1;33m)\u001b[0m\u001b[1;33m\u001b[0m\u001b[1;33m\u001b[0m\u001b[0m\n\u001b[1;32m----> 4\u001b[1;33m \u001b[0mAVG_maker\u001b[0m\u001b[1;33m(\u001b[0m\u001b[0mFG_pracent\u001b[0m\u001b[1;33m)\u001b[0m\u001b[1;33m\u001b[0m\u001b[1;33m\u001b[0m\u001b[0m\n\u001b[0m",
      "\u001b[1;32m<ipython-input-74-23d135f92420>\u001b[0m in \u001b[0;36mAVG_maker\u001b[1;34m(a_list)\u001b[0m\n\u001b[0;32m      1\u001b[0m \u001b[1;32mdef\u001b[0m \u001b[0mAVG_maker\u001b[0m\u001b[1;33m(\u001b[0m\u001b[0ma_list\u001b[0m\u001b[1;33m)\u001b[0m\u001b[1;33m:\u001b[0m\u001b[1;33m\u001b[0m\u001b[1;33m\u001b[0m\u001b[0m\n\u001b[1;32m----> 2\u001b[1;33m     \u001b[0mint_convert\u001b[0m \u001b[1;33m=\u001b[0m \u001b[0mlist\u001b[0m\u001b[1;33m(\u001b[0m\u001b[0mmap\u001b[0m\u001b[1;33m(\u001b[0m\u001b[0mint\u001b[0m\u001b[1;33m,\u001b[0m \u001b[0ma_list\u001b[0m\u001b[1;33m)\u001b[0m\u001b[1;33m)\u001b[0m\u001b[1;33m\u001b[0m\u001b[1;33m\u001b[0m\u001b[0m\n\u001b[0m\u001b[0;32m      3\u001b[0m     \u001b[0mavg_calc\u001b[0m \u001b[1;33m=\u001b[0m \u001b[1;33m(\u001b[0m\u001b[0msum\u001b[0m\u001b[1;33m(\u001b[0m\u001b[0mint_convert\u001b[0m\u001b[1;33m)\u001b[0m\u001b[1;33m//\u001b[0m\u001b[1;36m94\u001b[0m\u001b[1;33m)\u001b[0m\u001b[1;33m\u001b[0m\u001b[1;33m\u001b[0m\u001b[0m\n\u001b[0;32m      4\u001b[0m     \u001b[0mprint\u001b[0m\u001b[1;33m(\u001b[0m\u001b[0mavg_calc\u001b[0m\u001b[1;33m)\u001b[0m\u001b[1;33m\u001b[0m\u001b[1;33m\u001b[0m\u001b[0m\n",
      "\u001b[1;31mValueError\u001b[0m: invalid literal for int() with base 10: '.544'"
     ]
    }
   ],
   "source": [
    "FG_pracent = []\n",
    "list_maker(FG_pracent, 21)\n",
    "FG_pracent.remove('FG%')\n",
    "AVG_maker(FG_pracent)"
   ]
  },
  {
   "cell_type": "code",
   "execution_count": 112,
   "metadata": {},
   "outputs": [
    {
     "output_type": "stream",
     "name": "stdout",
     "text": [
      "['.544', '.250', '.397', '.417', '.444', '.436', '.469', '.404', '.318', '.250', '.625', '.406', '.462', '.381', '.393', '.500', '.286', '.478', '.400', '.524', '.417', '.379', '.333', '.374', '.451', '.464', '.500', '.524', '.452', '', '.472', '.303', '.435', '.500', '.353', '.357', '.377', '.333', '.361', '.423', '.474', '.370', '.390', '.471', '.386', '.231', '.000', '.368', '.231', '.342', '.392', '.509', '.396', '.462', '.449', '.447', '.394', '.444', '.438', '.481', '.459', '.417', '.644', '.420', '.576', '.423', '.410', '.341', '.533', '.440', '.395', '.395', '.538', '.444', '.667', '.389', '.350', '.440', '.302', '.456', '.553', '.506', '.313', '.361', '.333', '.559', '.498', '.406', '.000', '.483', '.438', '.424', '.519', '.400']\n"
     ]
    }
   ],
   "source": [
    "print(FG_pracent)       # the func dose not support float type, next time fix it."
   ]
  },
  {
   "cell_type": "code",
   "execution_count": null,
   "metadata": {},
   "outputs": [],
   "source": []
  }
 ]
}