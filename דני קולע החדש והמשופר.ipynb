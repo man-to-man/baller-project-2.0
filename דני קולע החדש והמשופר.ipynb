{
 "metadata": {
  "language_info": {
   "codemirror_mode": {
    "name": "ipython",
    "version": 3
   },
   "file_extension": ".py",
   "mimetype": "text/x-python",
   "name": "python",
   "nbconvert_exporter": "python",
   "pygments_lexer": "ipython3",
   "version": "3.8.8"
  },
  "orig_nbformat": 4,
  "kernelspec": {
   "name": "python3",
   "display_name": "Python 3.8.8 64-bit ('base': conda)"
  },
  "interpreter": {
   "hash": "42588fd11209419b7c81abe23e31a1d2101f60811b02170c268e57ebb57d5d9a"
  }
 },
 "nbformat": 4,
 "nbformat_minor": 2,
 "cells": [
  {
   "cell_type": "code",
   "execution_count": 7,
   "metadata": {
    "tags": []
   },
   "outputs": [],
   "source": [
    "import csv\n",
    "\n",
    "csv_file = open('.idea\\csv.txt')\n",
    "csv_reader = csv.reader(csv_file)\n",
    "ages = []\n",
    "for row in csv_reader:\n",
    "    ages.append(row[3])\n",
    "    \n",
    "csv_file.close()"
   ]
  },
  {
   "cell_type": "code",
   "execution_count": 8,
   "metadata": {},
   "outputs": [
    {
     "output_type": "stream",
     "name": "stdout",
     "text": [
      "['21', '22', '20', '20', '21', '19', '22', '21', '22', '25', '26', '22', '25', '29', '24', '19', '22', '25', '24', '21', '19', '20', '23', '22', '22', '24', '28', '23', '20', '21', '20', '20', '19', '22', '19', '21', '21', '22', '21', '22', '21', '23', '23', '21', '19', '21', '22', '19', '20', '19', '23', '20', '25', '20', '23', '20', '24', '24', '21', '20', '22', '22', '20', '20', '24', '21', '20', '19', '21', '23', '21', '19', '21', '23', '23', '20', '20', '20', '21', '23', '19', '25', '20', '24', '22', '22', '22', '20', '27', '19', '24', '22', '19', '21']\n"
     ]
    }
   ],
   "source": [
    "ages.remove('Age')\n",
    "print(ages)"
   ]
  },
  {
   "cell_type": "code",
   "execution_count": 9,
   "metadata": {},
   "outputs": [
    {
     "output_type": "stream",
     "name": "stdout",
     "text": [
      "21\n"
     ]
    }
   ],
   "source": [
    "int_list_age = tuple(map(int, ages))  #avg.Age\n",
    "ages_avg= (sum(int_list_a)//94)#number of rookies is 94\n",
    "print(ages_avg)"
   ]
  },
  {
   "cell_type": "code",
   "execution_count": 27,
   "metadata": {
    "tags": []
   },
   "outputs": [],
   "source": [
    "#avg.G\n",
    "\n",
    "import csv\n",
    "\n",
    "csv_file = open('.idea\\csv.txt')\n",
    "csv_reader = csv.reader(csv_file)\n",
    "G = []\n",
    "for row in csv_reader:\n",
    "    G.append(row[5])\n",
    "csv_file.close()"
   ]
  },
  {
   "cell_type": "code",
   "execution_count": 38,
   "metadata": {},
   "outputs": [
    {
     "output_type": "stream",
     "name": "stdout",
     "text": [
      "['61', '15', '47', '54', '15', '51', '68', '70', '18', '17', '5', '20', '1', '65', '8', '19', '7', '10', '14', '11', '72', '30', '3', '47', '30', '7', '26', '20', '39', '2', '58', '21', '51', '13', '26', '21', '37', '18', '41', '32', '37', '33', '24', '48', '54', '3', '1', '65', '10', '30', '32', '45', '8', '61', '33', '63', '18', '30', '46', '42', '30', '45', '50', '67', '4', '30', '26', '45', '11', '66', '64', '13', '26', '18', '7', '4', '20', '27', '24', '40', '68', '70', '11', '32', '18', '59', '62', '62', '4', '71', '31', '22', '39', '13']\n"
     ]
    }
   ],
   "source": [
    "#the .remove just left somehow\n",
    "print(G)"
   ]
  },
  {
   "cell_type": "code",
   "execution_count": 41,
   "metadata": {},
   "outputs": [
    {
     "output_type": "stream",
     "name": "stdout",
     "text": [
      "32\n"
     ]
    }
   ],
   "source": [
    "int_list_G = list(map(int, G))\n",
    "G_avg = (sum(int_list_G)//94)\n",
    "print(G_avg)"
   ]
  },
  {
   "cell_type": "code",
   "execution_count": 61,
   "metadata": {},
   "outputs": [],
   "source": [
    "#avg.Minutes Played\n",
    "\n",
    "import csv\n",
    "\n",
    "csv_file = open('.idea\\csv.txt')\n",
    "csv_reader = csv.reader(csv_file)\n",
    "MP = []\n",
    "for row in csv_reader:\n",
    "    MP.append(row[6])\n",
    "csv_file.close()"
   ]
  },
  {
   "cell_type": "code",
   "execution_count": 66,
   "metadata": {},
   "outputs": [
    {
     "output_type": "stream",
     "name": "stdout",
     "text": [
      "['737', '47', '1273', '1257', '57', '1469', '1519', '1909', '71', '75', '29', '520', '32', '1425', '74', '115', '26', '212', '141', '50', '2314', '192', '11', '928', '302', '101', '218', '392', '445', '4', '1746', '336', '888', '172', '670', '93', '205', '64', '383', '334', '269', '279', '415', '781', '904', '56', '3', '1778', '88', '364', '700', '1068', '123', '935', '269', '1511', '158', '233', '669', '397', '274', '1133', '601', '2173', '87', '161', '211', '1090', '54', '1268', '1243', '94', '177', '63', '27', '84', '133', '156', '93', '499', '1455', '2043', '56', '399', '182', '1085', '683', '1056', '12', '1983', '513', '98', '836', '45']\n"
     ]
    }
   ],
   "source": [
    "print(MP)"
   ]
  },
  {
   "cell_type": "code",
   "execution_count": 68,
   "metadata": {},
   "outputs": [
    {
     "output_type": "stream",
     "name": "stdout",
     "text": [
      "552\n"
     ]
    }
   ],
   "source": [
    "int_list_MP = list(map(int, MP))\n",
    "MP_avg = (sum(int_list_MP)//94)\n",
    "print(MP_avg)"
   ]
  },
  {
   "cell_type": "code",
   "execution_count": 69,
   "metadata": {},
   "outputs": [],
   "source": [
    "#avg.field Goals\n",
    "\n",
    "import csv\n",
    "\n",
    "csv_file = open('.idea\\csv.txt')\n",
    "csv_reader = csv.reader(csv_file)\n",
    "FG = []\n",
    "for row in csv_reader:\n",
    "    FG.append(row[7])\n",
    "csv_file.close()"
   ]
  },
  {
   "cell_type": "code",
   "execution_count": 72,
   "metadata": {},
   "outputs": [
    {
     "output_type": "stream",
     "name": "stdout",
     "text": [
      "['124', '3', '219', '130', '4', '293', '234', '279', '7', '5', '5', '78', '6', '120', '11', '18', '2', '32', '16', '11', '505', '25', '1', '127', '32', '13', '30', '44', '42', '0', '292', '30', '136', '36', '71', '15', '40', '10', '48', '52', '37', '37', '46', '99', '130', '3', '0', '226', '3', '39', '82', '162', '19', '198', '44', '164', '13', '32', '78', '50', '62', '135', '96', '235', '19', '22', '32', '139', '8', '184', '229', '15', '42', '4', '8', '14', '14', '22', '13', '62', '226', '316', '5', '39', '19', '167', '104', '123', '0', '255', '57', '14', '191', '8']\n"
     ]
    }
   ],
   "source": [
    "print(FG)"
   ]
  },
  {
   "cell_type": "code",
   "execution_count": 73,
   "metadata": {},
   "outputs": [
    {
     "output_type": "stream",
     "name": "stdout",
     "text": [
      "79\n"
     ]
    }
   ],
   "source": [
    "int_list_FG = list(map(int, FG))\n",
    "FG_avg = (sum(int_list_FG)//94)\n",
    "print(FG_avg)"
   ]
  },
  {
   "cell_type": "code",
   "execution_count": null,
   "metadata": {},
   "outputs": [],
   "source": []
  }
 ]
}